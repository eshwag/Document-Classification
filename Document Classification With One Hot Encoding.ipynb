{
 "cells": [
  {
   "cell_type": "markdown",
   "metadata": {},
   "source": [
    "### Load Required Libraries here\n"
   ]
  },
  {
   "cell_type": "code",
   "execution_count": 1,
   "metadata": {},
   "outputs": [
    {
     "name": "stderr",
     "output_type": "stream",
     "text": [
      "Using TensorFlow backend.\n"
     ]
    }
   ],
   "source": [
    "import os\n",
    "import numpy as np\n",
    "np.random.seed(111)\n",
    "import pandas as pd\n",
    "from keras import layers\n",
    "from keras import models\n",
    "from keras import metrics\n",
    "from keras import optimizers\n",
    "from keras import callbacks\n",
    "from keras.preprocessing.sequence import pad_sequences\n",
    "from keras.preprocessing.text import Tokenizer\n",
    "from keras.utils import np_utils\n",
    "import matplotlib.pyplot as plot\n",
    "from sklearn import model_selection\n",
    "from sklearn import preprocessing\n"
   ]
  },
  {
   "cell_type": "markdown",
   "metadata": {},
   "source": [
    "##  Read Train & Test Data and replace NA values"
   ]
  },
  {
   "cell_type": "code",
   "execution_count": 2,
   "metadata": {},
   "outputs": [
    {
     "data": {
      "text/plain": [
       "['.ipynb_checkpoints',\n",
       " 'AttributeDescription.pdf',\n",
       " 'best_mlp_embedded_model.h5',\n",
       " 'best_mlp_one_hot_encoded_model.h5',\n",
       " 'best_simple_RNN_embedded_model.h5',\n",
       " 'CUTe_CSE7321c_Batch39_Group_2.pptx',\n",
       " 'CUTe_CSE7321c_Batch39_Group_2.zip',\n",
       " 'Document Classification With One Hot Encoding.ipynb',\n",
       " 'Document Classification With Pre-Trained Embedding.ipynb',\n",
       " 'Document Classification With Word Embedding.ipynb',\n",
       " 'test.csv',\n",
       " 'test_mlp_embedded_model.csv',\n",
       " 'test_simple_RNN_embedded_model.csv',\n",
       " 'train.csv',\n",
       " '~$CUTe_CSE7321c_Batch39_Group_2.pptx']"
      ]
     },
     "execution_count": 2,
     "metadata": {},
     "output_type": "execute_result"
    }
   ],
   "source": [
    "path = os.getcwd()\n",
    "os.listdir()"
   ]
  },
  {
   "cell_type": "code",
   "execution_count": 3,
   "metadata": {
    "collapsed": true
   },
   "outputs": [],
   "source": [
    "train = pd.read_csv(\"train.csv\", index_col = \"ID\", na_values=\" \")\n",
    "test = pd.read_csv(\"test.csv\", na_values=\" \")"
   ]
  },
  {
   "cell_type": "code",
   "execution_count": 4,
   "metadata": {},
   "outputs": [
    {
     "data": {
      "text/html": [
       "<div>\n",
       "<style>\n",
       "    .dataframe thead tr:only-child th {\n",
       "        text-align: right;\n",
       "    }\n",
       "\n",
       "    .dataframe thead th {\n",
       "        text-align: left;\n",
       "    }\n",
       "\n",
       "    .dataframe tbody tr th {\n",
       "        vertical-align: top;\n",
       "    }\n",
       "</style>\n",
       "<table border=\"1\" class=\"dataframe\">\n",
       "  <thead>\n",
       "    <tr style=\"text-align: right;\">\n",
       "      <th></th>\n",
       "      <th>ID</th>\n",
       "      <th>converse</th>\n",
       "    </tr>\n",
       "  </thead>\n",
       "  <tbody>\n",
       "    <tr>\n",
       "      <th>2811</th>\n",
       "      <td>14194</td>\n",
       "      <td>NaN</td>\n",
       "    </tr>\n",
       "    <tr>\n",
       "      <th>3603</th>\n",
       "      <td>18173</td>\n",
       "      <td>NaN</td>\n",
       "    </tr>\n",
       "    <tr>\n",
       "      <th>4447</th>\n",
       "      <td>22293</td>\n",
       "      <td>NaN</td>\n",
       "    </tr>\n",
       "    <tr>\n",
       "      <th>6261</th>\n",
       "      <td>31275</td>\n",
       "      <td>NaN</td>\n",
       "    </tr>\n",
       "    <tr>\n",
       "      <th>6737</th>\n",
       "      <td>33762</td>\n",
       "      <td>NaN</td>\n",
       "    </tr>\n",
       "    <tr>\n",
       "      <th>9539</th>\n",
       "      <td>47537</td>\n",
       "      <td>NaN</td>\n",
       "    </tr>\n",
       "    <tr>\n",
       "      <th>9702</th>\n",
       "      <td>48370</td>\n",
       "      <td>NaN</td>\n",
       "    </tr>\n",
       "  </tbody>\n",
       "</table>\n",
       "</div>"
      ],
      "text/plain": [
       "         ID converse\n",
       "2811  14194      NaN\n",
       "3603  18173      NaN\n",
       "4447  22293      NaN\n",
       "6261  31275      NaN\n",
       "6737  33762      NaN\n",
       "9539  47537      NaN\n",
       "9702  48370      NaN"
      ]
     },
     "execution_count": 4,
     "metadata": {},
     "output_type": "execute_result"
    }
   ],
   "source": [
    "train[train.isnull().any(axis=1)]\n",
    "test[test.isnull().any(axis=1)]"
   ]
  },
  {
   "cell_type": "code",
   "execution_count": 5,
   "metadata": {
    "collapsed": true
   },
   "outputs": [],
   "source": [
    "train[\"converse\"] = train[\"converse\"].astype(str)\n",
    "test[\"converse\"] = test[\"converse\"].astype(str)"
   ]
  },
  {
   "cell_type": "markdown",
   "metadata": {},
   "source": [
    "## Tokenize & Vectorize Data using One-Hot Encoding"
   ]
  },
  {
   "cell_type": "code",
   "execution_count": 6,
   "metadata": {
    "collapsed": true
   },
   "outputs": [],
   "source": [
    "train_data = train[\"converse\"]\n",
    "test_data = test[\"converse\"]"
   ]
  },
  {
   "cell_type": "code",
   "execution_count": 7,
   "metadata": {
    "collapsed": true
   },
   "outputs": [],
   "source": [
    "max_words = 10000"
   ]
  },
  {
   "cell_type": "code",
   "execution_count": 8,
   "metadata": {
    "collapsed": true
   },
   "outputs": [],
   "source": [
    "tokenizer = Tokenizer(num_words=max_words)\n",
    "tokenizer.fit_on_texts(train_data)"
   ]
  },
  {
   "cell_type": "code",
   "execution_count": 9,
   "metadata": {
    "collapsed": true
   },
   "outputs": [],
   "source": [
    "def vectorize_label_data(data, column):\n",
    "    data[column] = data[column].astype(\"category\")\n",
    "    return np_utils.to_categorical(data[column].cat.codes.values)\n",
    "\n",
    "def create_test_submission_file(test_preds, fileName):\n",
    "    label_index_map = dict(enumerate(train['categories'].cat.categories))\n",
    "    test['categories'] = test_preds\n",
    "    test['categories'] = test['categories'].map(label_index_map)\n",
    "    test[[\"ID\", \"categories\"]].to_csv(fileName, index=False)  \n",
    "\n",
    "def plotTrainValidationAccuracy(model_history, name):\n",
    "    plot.clf()\n",
    "    history_dict = model_history.history\n",
    "    train_acc = history_dict[\"acc\"]\n",
    "    val_acc = history_dict[\"val_acc\"]\n",
    "    epocs = range(1, len(train_acc) + 1)\n",
    "    plot.plot(epocs, train_acc, \"go\", label = \"Training Accuracy\")\n",
    "    plot.plot(epocs, val_acc, \"g\", label = \"Validation Accuracy\")\n",
    "    plot.title(name + \" Training & validation accuracy\")\n",
    "    plot.xlabel(\"Epocs\")\n",
    "    plot.ylabel(\"Accuracy\")\n",
    "    plot.legend()\n",
    "    plot.show()\n",
    "    "
   ]
  },
  {
   "cell_type": "code",
   "execution_count": 10,
   "metadata": {
    "collapsed": true
   },
   "outputs": [],
   "source": [
    "train_vectorized = tokenizer.texts_to_matrix(train_data)\n",
    "label_vectorized = vectorize_label_data(train, \"categories\")\n",
    "test_vectorized = tokenizer.texts_to_matrix(test_data)"
   ]
  },
  {
   "cell_type": "code",
   "execution_count": 11,
   "metadata": {},
   "outputs": [
    {
     "name": "stdout",
     "output_type": "stream",
     "text": [
      "(45825, 10000)\n",
      "(11455, 10000)\n",
      "(45825, 6)\n"
     ]
    }
   ],
   "source": [
    "print(train_vectorized.shape)\n",
    "print(test_vectorized.shape)\n",
    "print(label_vectorized.shape)"
   ]
  },
  {
   "cell_type": "code",
   "execution_count": 12,
   "metadata": {
    "collapsed": true
   },
   "outputs": [],
   "source": [
    "x_train, x_val, y_train, y_val = model_selection.train_test_split(train_vectorized, label_vectorized, random_state = 111, \n",
    "                                                                  stratify = label_vectorized, test_size = 0.15)\n",
    "x_test = test_vectorized"
   ]
  },
  {
   "cell_type": "code",
   "execution_count": 13,
   "metadata": {},
   "outputs": [
    {
     "name": "stdout",
     "output_type": "stream",
     "text": [
      "(38951, 10000)\n",
      "(38951, 6)\n",
      "(6874, 10000)\n",
      "(6874, 6)\n",
      "(11455, 10000)\n"
     ]
    }
   ],
   "source": [
    "print(x_train.shape)\n",
    "print(y_train.shape)\n",
    "print(x_val.shape)\n",
    "print(y_val.shape)\n",
    "print(x_test.shape)"
   ]
  },
  {
   "cell_type": "code",
   "execution_count": 14,
   "metadata": {},
   "outputs": [
    {
     "name": "stdout",
     "output_type": "stream",
     "text": [
      "_________________________________________________________________\n",
      "Layer (type)                 Output Shape              Param #   \n",
      "=================================================================\n",
      "dense_1 (Dense)              (None, 64)                640064    \n",
      "_________________________________________________________________\n",
      "dense_2 (Dense)              (None, 6)                 390       \n",
      "=================================================================\n",
      "Total params: 640,454\n",
      "Trainable params: 640,454\n",
      "Non-trainable params: 0\n",
      "_________________________________________________________________\n"
     ]
    }
   ],
   "source": [
    "mlpModel = models.Sequential()\n",
    "mlpModel.add(layers.Dense(64, activation=\"relu\", input_shape=(max_words,)))\n",
    "mlpModel.add(layers.Dense(6, activation=\"softmax\"))\n",
    "mlpModel.summary()"
   ]
  },
  {
   "cell_type": "code",
   "execution_count": 15,
   "metadata": {},
   "outputs": [
    {
     "name": "stdout",
     "output_type": "stream",
     "text": [
      "Train on 38951 samples, validate on 6874 samples\n",
      "Epoch 1/5\n",
      "38951/38951 [==============================] - 33s 840us/step - loss: 0.6657 - acc: 0.7648 - val_loss: 0.5951 - val_acc: 0.7894\n",
      "Epoch 2/5\n",
      "38951/38951 [==============================] - 42s 1ms/step - loss: 0.5371 - acc: 0.8062 - val_loss: 0.6009 - val_acc: 0.7888\n",
      "Epoch 3/5\n",
      "38951/38951 [==============================] - 43s 1ms/step - loss: 0.4972 - acc: 0.8238 - val_loss: 0.6265 - val_acc: 0.7880\n",
      "Epoch 4/5\n",
      "38951/38951 [==============================] - 43s 1ms/step - loss: 0.4679 - acc: 0.8357 - val_loss: 0.6345 - val_acc: 0.7850\n"
     ]
    },
    {
     "data": {
      "image/png": "[encoded data removed]",
      "text/plain": [
       "<matplotlib.figure.Figure at 0x1fb6bd81f60>"
      ]
     },
     "metadata": {},
     "output_type": "display_data"
    },
    {
     "name": "stdout",
     "output_type": "stream",
     "text": [
      "11455/11455 [==============================] - 10s 841us/step\n"
     ]
    }
   ],
   "source": [
    "modelName = 'best_mlp_one_hot_encoded_model.h5'\n",
    "call_backs = [callbacks.EarlyStopping(monitor='val_acc', patience=3),\n",
    "             callbacks.ModelCheckpoint(filepath=modelName, monitor='val_acc', save_best_only=True)]\n",
    "mlpModel.compile(optimizer='rmsprop',loss='categorical_crossentropy',metrics=['accuracy'])\n",
    "mlpModelHistory = mlpModel.fit(x_train, y_train, epochs=5, callbacks=call_backs, validation_data=(x_val,y_val))\n",
    "plotTrainValidationAccuracy(model_history=mlpModelHistory, name=\"MLP With One Hot Encoding\")\n",
    "best_model = models.load_model(modelName)\n",
    "create_test_submission_file(best_model.predict_classes(x_test),  \"test_mlp_one_hot_encoded_model.csv\")"
   ]
  },
  {
   "cell_type": "code",
   "execution_count": null,
   "metadata": {
    "collapsed": true
   },
   "outputs": [],
   "source": []
  }
 ],
 "metadata": {
  "kernelspec": {
   "display_name": "Python 3",
   "language": "python",
   "name": "python3"
  },
  "language_info": {
   "codemirror_mode": {
    "name": "ipython",
    "version": 3
   },
   "file_extension": ".py",
   "mimetype": "text/x-python",
   "name": "python",
   "nbconvert_exporter": "python",
   "pygments_lexer": "ipython3",
   "version": "3.6.3"
  }
 },
 "nbformat": 4,
 "nbformat_minor": 2
}
