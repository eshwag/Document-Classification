{
 "cells": [
  {
   "cell_type": "markdown",
   "metadata": {},
   "source": [
    "### Load Required Libraries here"
   ]
  },
  {
   "cell_type": "code",
   "execution_count": 1,
   "metadata": {},
   "outputs": [
    {
     "name": "stderr",
     "output_type": "stream",
     "text": [
      "Using TensorFlow backend.\n"
     ]
    }
   ],
   "source": [
    "import os\n",
    "import numpy as np\n",
    "np.random.seed(111)\n",
    "import pandas as pd\n",
    "from keras import layers\n",
    "from keras import models\n",
    "from keras import metrics\n",
    "from keras import optimizers\n",
    "from keras import callbacks\n",
    "from keras.preprocessing.sequence import pad_sequences\n",
    "from keras.preprocessing.text import Tokenizer\n",
    "from keras.utils import np_utils\n",
    "import matplotlib.pyplot as plot\n",
    "from sklearn import model_selection\n",
    "from sklearn import preprocessing"
   ]
  },
  {
   "cell_type": "markdown",
   "metadata": {},
   "source": [
    "##  Read Train & Test Data and replace NA values"
   ]
  },
  {
   "cell_type": "code",
   "execution_count": 2,
   "metadata": {},
   "outputs": [
    {
     "data": {
      "text/plain": [
       "['.ipynb_checkpoints',\n",
       " 'AttributeDescription.pdf',\n",
       " 'CUTe_CSE7321c_Batch39_Group_2.pptx',\n",
       " 'CUTe_CSE7321c_Batch39_Group_2.zip',\n",
       " 'Document Classification With One Hot Encoding.ipynb',\n",
       " 'Document Classification With Pre-Trained Embedding.ipynb',\n",
       " 'Document Classification With Word Embedding.ipynb',\n",
       " 'test.csv',\n",
       " 'train.csv',\n",
       " '~$CUTe_CSE7321c_Batch39_Group_2.pptx']"
      ]
     },
     "execution_count": 2,
     "metadata": {},
     "output_type": "execute_result"
    }
   ],
   "source": [
    "path = os.getcwd()\n",
    "os.listdir()"
   ]
  },
  {
   "cell_type": "code",
   "execution_count": 3,
   "metadata": {
    "collapsed": true
   },
   "outputs": [],
   "source": [
    "train = pd.read_csv(\"train.csv\", index_col = \"ID\", na_values=\" \")\n",
    "test = pd.read_csv(\"test.csv\", na_values=\" \")"
   ]
  },
  {
   "cell_type": "code",
   "execution_count": 4,
   "metadata": {},
   "outputs": [
    {
     "data": {
      "text/html": [
       "<div>\n",
       "<style>\n",
       "    .dataframe thead tr:only-child th {\n",
       "        text-align: right;\n",
       "    }\n",
       "\n",
       "    .dataframe thead th {\n",
       "        text-align: left;\n",
       "    }\n",
       "\n",
       "    .dataframe tbody tr th {\n",
       "        vertical-align: top;\n",
       "    }\n",
       "</style>\n",
       "<table border=\"1\" class=\"dataframe\">\n",
       "  <thead>\n",
       "    <tr style=\"text-align: right;\">\n",
       "      <th></th>\n",
       "      <th>ID</th>\n",
       "      <th>converse</th>\n",
       "    </tr>\n",
       "  </thead>\n",
       "  <tbody>\n",
       "    <tr>\n",
       "      <th>2811</th>\n",
       "      <td>14194</td>\n",
       "      <td>NaN</td>\n",
       "    </tr>\n",
       "    <tr>\n",
       "      <th>3603</th>\n",
       "      <td>18173</td>\n",
       "      <td>NaN</td>\n",
       "    </tr>\n",
       "    <tr>\n",
       "      <th>4447</th>\n",
       "      <td>22293</td>\n",
       "      <td>NaN</td>\n",
       "    </tr>\n",
       "    <tr>\n",
       "      <th>6261</th>\n",
       "      <td>31275</td>\n",
       "      <td>NaN</td>\n",
       "    </tr>\n",
       "    <tr>\n",
       "      <th>6737</th>\n",
       "      <td>33762</td>\n",
       "      <td>NaN</td>\n",
       "    </tr>\n",
       "    <tr>\n",
       "      <th>9539</th>\n",
       "      <td>47537</td>\n",
       "      <td>NaN</td>\n",
       "    </tr>\n",
       "    <tr>\n",
       "      <th>9702</th>\n",
       "      <td>48370</td>\n",
       "      <td>NaN</td>\n",
       "    </tr>\n",
       "  </tbody>\n",
       "</table>\n",
       "</div>"
      ],
      "text/plain": [
       "         ID converse\n",
       "2811  14194      NaN\n",
       "3603  18173      NaN\n",
       "4447  22293      NaN\n",
       "6261  31275      NaN\n",
       "6737  33762      NaN\n",
       "9539  47537      NaN\n",
       "9702  48370      NaN"
      ]
     },
     "execution_count": 4,
     "metadata": {},
     "output_type": "execute_result"
    }
   ],
   "source": [
    "train[train.isnull().any(axis=1)]\n",
    "test[test.isnull().any(axis=1)]"
   ]
  },
  {
   "cell_type": "code",
   "execution_count": 5,
   "metadata": {
    "collapsed": true
   },
   "outputs": [],
   "source": [
    "# replacing na values with string blank\"\n",
    "#train = train.replace(np.nan,\"Balnk\")\n",
    "#test = test.replace(np.nan, \"Blank\")\n",
    "\n",
    "train.fillna(\"Blank\", inplace=True)\n",
    "test.fillna(\"Blank\", inplace=True)"
   ]
  },
  {
   "cell_type": "markdown",
   "metadata": {},
   "source": [
    "## Tokenize & vectorize data using word embeddings "
   ]
  },
  {
   "cell_type": "code",
   "execution_count": 6,
   "metadata": {
    "collapsed": true
   },
   "outputs": [],
   "source": [
    "tokenizer = Tokenizer()\n",
    "tokenizer.fit_on_texts(train['converse'])\n",
    "word_index = tokenizer.word_index"
   ]
  },
  {
   "cell_type": "code",
   "execution_count": 7,
   "metadata": {},
   "outputs": [
    {
     "name": "stdout",
     "output_type": "stream",
     "text": [
      "unique words  34770\n"
     ]
    }
   ],
   "source": [
    "max_words = len(word_index) + 1\n",
    "print(\"unique words \",max_words)\n",
    "embedding_dim = 100\n",
    "max_len = 150"
   ]
  },
  {
   "cell_type": "markdown",
   "metadata": {},
   "source": [
    "### Label Encoder"
   ]
  },
  {
   "cell_type": "code",
   "execution_count": 8,
   "metadata": {},
   "outputs": [
    {
     "data": {
      "text/plain": [
       "PRESCRIPTION     12077\n",
       "APPOINTMENTS     11098\n",
       "MISCELLANEOUS     9736\n",
       "ASK_A_DOCTOR      9440\n",
       "LAB               3457\n",
       "JUNK                17\n",
       "Name: categories, dtype: int64"
      ]
     },
     "execution_count": 8,
     "metadata": {},
     "output_type": "execute_result"
    }
   ],
   "source": [
    "# labels counts before encoding\n",
    "train['categories'].value_counts()"
   ]
  },
  {
   "cell_type": "code",
   "execution_count": 9,
   "metadata": {
    "collapsed": true
   },
   "outputs": [],
   "source": [
    "label_encoder = preprocessing.LabelEncoder()\n",
    "labels_encoded = label_encoder.fit_transform(train['categories'])"
   ]
  },
  {
   "cell_type": "code",
   "execution_count": 10,
   "metadata": {},
   "outputs": [
    {
     "data": {
      "text/plain": [
       "5    12077\n",
       "0    11098\n",
       "4     9736\n",
       "1     9440\n",
       "3     3457\n",
       "2       17\n",
       "dtype: int64"
      ]
     },
     "execution_count": 10,
     "metadata": {},
     "output_type": "execute_result"
    }
   ],
   "source": [
    "# Label Counts after encoding\n",
    "pd.Series(labels_encoded).value_counts()"
   ]
  },
  {
   "cell_type": "code",
   "execution_count": 11,
   "metadata": {
    "collapsed": true
   },
   "outputs": [],
   "source": [
    "def vectorize_text_data(tokenizer, data, word_len=max_len):\n",
    "    text_to_seq = tokenizer.texts_to_sequences(data)\n",
    "    return pad_sequences(text_to_seq, word_len)\n",
    "  \n",
    "def create_test_submission_file(test_preds, fileName):\n",
    "    preds_decoded = label_encoder.inverse_transform(test_preds)\n",
    "    test_data = {'ID' : test['ID'], 'categories' : preds_decoded}\n",
    "    output = pd.DataFrame(data=test_data, columns=['ID','categories'])\n",
    "    output.to_csv(fileName,index=False)\n",
    "\n",
    "def plotTrainValidationAccuracy(model_history, name):\n",
    "    plot.clf()\n",
    "    history_dict = model_history.history\n",
    "    train_acc = history_dict[\"acc\"]\n",
    "    val_acc = history_dict[\"val_acc\"]\n",
    "    epocs = range(1, len(train_acc) + 1)\n",
    "    plot.plot(epocs, train_acc, \"go\", label = \"Training Accuracy\")\n",
    "    plot.plot(epocs, val_acc, \"g\", label = \"Validation Accuracy\")\n",
    "    plot.title(name + \" Training & validation accuracy\")\n",
    "    plot.xlabel(\"Epocs\")\n",
    "    plot.ylabel(\"Accuracy\")\n",
    "    plot.legend()\n",
    "    plot.show()      "
   ]
  },
  {
   "cell_type": "markdown",
   "metadata": {},
   "source": [
    "### Prepare Train & Validation data \n",
    "### split of data 85:15\n",
    "### Vectorizing text data"
   ]
  },
  {
   "cell_type": "code",
   "execution_count": 12,
   "metadata": {
    "collapsed": true
   },
   "outputs": [],
   "source": [
    "x_train, x_val, y_train, y_val = model_selection.train_test_split(train['converse'], labels_encoded, random_state = 111, \n",
    "                                                                  stratify = labels_encoded, test_size = 0.15)\n",
    "x_train = vectorize_text_data(tokenizer, x_train)\n",
    "x_val = vectorize_text_data(tokenizer, x_val)\n",
    "x_test = vectorize_text_data(tokenizer, test['converse'])\n",
    "y_train = np_utils.to_categorical(y_train)\n",
    "y_val = np_utils.to_categorical(y_val)"
   ]
  },
  {
   "cell_type": "code",
   "execution_count": 13,
   "metadata": {},
   "outputs": [
    {
     "name": "stdout",
     "output_type": "stream",
     "text": [
      "(38951, 150)\n",
      "(38951, 6)\n",
      "(6874, 150)\n",
      "(6874, 6)\n",
      "(11455, 150)\n"
     ]
    }
   ],
   "source": [
    "print(x_train.shape)\n",
    "print(y_train.shape)\n",
    "print(x_val.shape)\n",
    "print(y_val.shape)\n",
    "print(x_test.shape)"
   ]
  },
  {
   "cell_type": "markdown",
   "metadata": {},
   "source": [
    "# Build Models for Document Classification into 6 Categories"
   ]
  },
  {
   "cell_type": "markdown",
   "metadata": {},
   "source": [
    "### 1. Build a MLP network"
   ]
  },
  {
   "cell_type": "code",
   "execution_count": 14,
   "metadata": {
    "collapsed": true
   },
   "outputs": [],
   "source": [
    "len_categories = len(np.unique(labels_encoded))"
   ]
  },
  {
   "cell_type": "code",
   "execution_count": 15,
   "metadata": {},
   "outputs": [
    {
     "name": "stdout",
     "output_type": "stream",
     "text": [
      "_________________________________________________________________\n",
      "Layer (type)                 Output Shape              Param #   \n",
      "=================================================================\n",
      "embedding_1 (Embedding)      (None, 150, 100)          3477000   \n",
      "_________________________________________________________________\n",
      "flatten_1 (Flatten)          (None, 15000)             0         \n",
      "_________________________________________________________________\n",
      "dense_1 (Dense)              (None, 6)                 90006     \n",
      "=================================================================\n",
      "Total params: 3,567,006\n",
      "Trainable params: 3,567,006\n",
      "Non-trainable params: 0\n",
      "_________________________________________________________________\n"
     ]
    }
   ],
   "source": [
    "mlpNetwork = models.Sequential()\n",
    "mlpNetwork.add(layers.Embedding(max_words, embedding_dim, input_length=max_len))\n",
    "mlpNetwork.add(layers.Flatten())\n",
    "mlpNetwork.add(layers.Dense(len_categories, activation=\"softmax\"))\n",
    "mlpNetwork.summary()"
   ]
  },
  {
   "cell_type": "code",
   "execution_count": 16,
   "metadata": {},
   "outputs": [
    {
     "name": "stdout",
     "output_type": "stream",
     "text": [
      "Train on 38951 samples, validate on 6874 samples\n",
      "Epoch 1/5\n",
      "38951/38951 [==============================] - 68s 2ms/step - loss: 0.7563 - acc: 0.7201 - val_loss: 0.6221 - val_acc: 0.7784\n",
      "Epoch 2/5\n",
      "38951/38951 [==============================] - 58s 1ms/step - loss: 0.5107 - acc: 0.8172 - val_loss: 0.6384 - val_acc: 0.7731\n",
      "Epoch 3/5\n",
      "38951/38951 [==============================] - 59s 2ms/step - loss: 0.3616 - acc: 0.8766 - val_loss: 0.7188 - val_acc: 0.7573\n",
      "Epoch 4/5\n",
      "38951/38951 [==============================] - 56s 1ms/step - loss: 0.2370 - acc: 0.9251 - val_loss: 0.7869 - val_acc: 0.7571\n"
     ]
    },
    {
     "data": {
      "image/png": "[encoded data removed]",
      "text/plain": [
       "<matplotlib.figure.Figure at 0x203e6fc27b8>"
      ]
     },
     "metadata": {},
     "output_type": "display_data"
    },
    {
     "name": "stdout",
     "output_type": "stream",
     "text": [
      "11455/11455 [==============================] - 1s 75us/step\n"
     ]
    }
   ],
   "source": [
    "modelName = 'best_mlp_embedded_model.h5'\n",
    "call_backs = [callbacks.EarlyStopping(monitor='val_acc', patience=3),\n",
    "             callbacks.ModelCheckpoint(filepath=modelName, monitor='val_acc', save_best_only=True)]\n",
    "mlpNetwork.compile(optimizer='rmsprop',loss='categorical_crossentropy',metrics=['accuracy'])\n",
    "mlpNetworkHistory = mlpNetwork.fit(x_train, y_train, epochs=5, callbacks=call_backs, validation_data=(x_val,y_val))\n",
    "plotTrainValidationAccuracy(model_history=mlpNetworkHistory, name=\"MLP With Embedding\")\n",
    "best_model = models.load_model(modelName)\n",
    "create_test_submission_file(best_model.predict_classes(x_test),  \"test_mlp_embedded_model.csv\")"
   ]
  },
  {
   "cell_type": "markdown",
   "metadata": {},
   "source": [
    "### 2. Build Simple RNN Network"
   ]
  },
  {
   "cell_type": "code",
   "execution_count": 17,
   "metadata": {},
   "outputs": [
    {
     "name": "stdout",
     "output_type": "stream",
     "text": [
      "_________________________________________________________________\n",
      "Layer (type)                 Output Shape              Param #   \n",
      "=================================================================\n",
      "embedding_2 (Embedding)      (None, None, 100)         3477000   \n",
      "_________________________________________________________________\n",
      "spatial_dropout1d_1 (Spatial (None, None, 100)         0         \n",
      "_________________________________________________________________\n",
      "simple_rnn_1 (SimpleRNN)     (None, 64)                10560     \n",
      "_________________________________________________________________\n",
      "dense_2 (Dense)              (None, 64)                4160      \n",
      "_________________________________________________________________\n",
      "dropout_1 (Dropout)          (None, 64)                0         \n",
      "_________________________________________________________________\n",
      "dense_3 (Dense)              (None, 6)                 390       \n",
      "=================================================================\n",
      "Total params: 3,492,110\n",
      "Trainable params: 3,492,110\n",
      "Non-trainable params: 0\n",
      "_________________________________________________________________\n"
     ]
    }
   ],
   "source": [
    "simpleRnnNetwork = models.Sequential()\n",
    "simpleRnnNetwork.add(layers.Embedding(max_words, embedding_dim))\n",
    "simpleRnnNetwork.add(layers.SpatialDropout1D(0.3))\n",
    "simpleRnnNetwork.add(layers.SimpleRNN(64))\n",
    "simpleRnnNetwork.add(layers.Dense(64, activation=\"relu\"))\n",
    "simpleRnnNetwork.add(layers.Dropout(0.25))\n",
    "simpleRnnNetwork.add(layers.Dense(len_categories, activation=\"softmax\"))\n",
    "simpleRnnNetwork.summary()"
   ]
  },
  {
   "cell_type": "code",
   "execution_count": 18,
   "metadata": {},
   "outputs": [
    {
     "name": "stdout",
     "output_type": "stream",
     "text": [
      "Train on 38951 samples, validate on 6874 samples\n",
      "Epoch 1/5\n",
      "38951/38951 [==============================] - 124s 3ms/step - loss: 1.1260 - acc: 0.5544 - val_loss: 0.9042 - val_acc: 0.6670\n",
      "Epoch 2/5\n",
      "38951/38951 [==============================] - 118s 3ms/step - loss: 0.9261 - acc: 0.6602 - val_loss: 0.8704 - val_acc: 0.6949\n",
      "Epoch 3/5\n",
      "38951/38951 [==============================] - 125s 3ms/step - loss: 0.8710 - acc: 0.6976 - val_loss: 0.8087 - val_acc: 0.7208\n",
      "Epoch 4/5\n",
      "38951/38951 [==============================] - 116s 3ms/step - loss: 0.9108 - acc: 0.6651 - val_loss: 0.8376 - val_acc: 0.6989\n",
      "Epoch 5/5\n",
      "38951/38951 [==============================] - 135s 3ms/step - loss: 0.8336 - acc: 0.7069 - val_loss: 0.7742 - val_acc: 0.7405\n"
     ]
    },
    {
     "data": {
      "image/png": "[encoded data removed]",
      "text/plain": [
       "<matplotlib.figure.Figure at 0x203f0323cf8>"
      ]
     },
     "metadata": {},
     "output_type": "display_data"
    },
    {
     "name": "stdout",
     "output_type": "stream",
     "text": [
      "11455/11455 [==============================] - 11s 927us/step\n"
     ]
    }
   ],
   "source": [
    "modelName = 'best_simple_RNN_embedded_model.h5'\n",
    "call_backs = [callbacks.EarlyStopping(monitor='val_acc', patience=3),\n",
    "             callbacks.ModelCheckpoint(filepath=modelName, monitor='val_acc', save_best_only=True)]\n",
    "simpleRnnNetwork.compile(optimizer='rmsprop',loss='categorical_crossentropy',metrics=['accuracy'])\n",
    "simpleRnnNetworkHistory = simpleRnnNetwork.fit(x_train, y_train, epochs=5, callbacks=call_backs, validation_data=(x_val,y_val))\n",
    "plotTrainValidationAccuracy(model_history=simpleRnnNetworkHistory, name=\"Simple RNN With Embedding\")\n",
    "best_model = models.load_model(modelName)\n",
    "create_test_submission_file(best_model.predict_classes(x_test),  \"test_simple_RNN_embedded_model.csv\")"
   ]
  },
  {
   "cell_type": "markdown",
   "metadata": {},
   "source": [
    "### 3. Build CNN 1D Network"
   ]
  },
  {
   "cell_type": "code",
   "execution_count": 20,
   "metadata": {},
   "outputs": [
    {
     "name": "stdout",
     "output_type": "stream",
     "text": [
      "_________________________________________________________________\n",
      "Layer (type)                 Output Shape              Param #   \n",
      "=================================================================\n",
      "embedding_4 (Embedding)      (None, 150, 100)          3477000   \n",
      "_________________________________________________________________\n",
      "conv1d_1 (Conv1D)            (None, 146, 64)           32064     \n",
      "_________________________________________________________________\n",
      "max_pooling1d_1 (MaxPooling1 (None, 36, 64)            0         \n",
      "_________________________________________________________________\n",
      "conv1d_2 (Conv1D)            (None, 32, 64)            20544     \n",
      "_________________________________________________________________\n",
      "max_pooling1d_2 (MaxPooling1 (None, 8, 64)             0         \n",
      "_________________________________________________________________\n",
      "flatten_2 (Flatten)          (None, 512)               0         \n",
      "_________________________________________________________________\n",
      "dense_4 (Dense)              (None, 64)                32832     \n",
      "_________________________________________________________________\n",
      "dense_5 (Dense)              (None, 6)                 390       \n",
      "=================================================================\n",
      "Total params: 3,562,830\n",
      "Trainable params: 3,562,830\n",
      "Non-trainable params: 0\n",
      "_________________________________________________________________\n"
     ]
    }
   ],
   "source": [
    "cnnNetwork = models.Sequential()\n",
    "cnnNetwork.add(layers.Embedding(max_words, embedding_dim, input_length=max_len))\n",
    "cnnNetwork.add(layers.Conv1D(64, 5, activation='relu'))\n",
    "cnnNetwork.add(layers.MaxPooling1D(4))\n",
    "cnnNetwork.add(layers.Conv1D(64, 5, activation='relu'))\n",
    "cnnNetwork.add(layers.MaxPooling1D(4))\n",
    "cnnNetwork.add(layers.Flatten())\n",
    "cnnNetwork.add(layers.Dense(64, activation = \"relu\"))\n",
    "cnnNetwork.add(layers.Dense(len_categories, activation=\"softmax\"))\n",
    "cnnNetwork.summary()"
   ]
  },
  {
   "cell_type": "code",
   "execution_count": 21,
   "metadata": {},
   "outputs": [
    {
     "name": "stdout",
     "output_type": "stream",
     "text": [
      "Train on 38951 samples, validate on 6874 samples\n",
      "Epoch 1/5\n",
      "38951/38951 [==============================] - 182s 5ms/step - loss: 0.7358 - acc: 0.7240 - val_loss: 0.5675 - val_acc: 0.7934\n",
      "Epoch 2/5\n",
      "38951/38951 [==============================] - 136s 3ms/step - loss: 0.4695 - acc: 0.8279 - val_loss: 0.5537 - val_acc: 0.7987\n",
      "Epoch 3/5\n",
      "38951/38951 [==============================] - 133s 3ms/step - loss: 0.3531 - acc: 0.8727 - val_loss: 0.5943 - val_acc: 0.7902\n",
      "Epoch 4/5\n",
      "38951/38951 [==============================] - 134s 3ms/step - loss: 0.2422 - acc: 0.9127 - val_loss: 0.7125 - val_acc: 0.7815\n",
      "Epoch 5/5\n",
      "38951/38951 [==============================] - 141s 4ms/step - loss: 0.1540 - acc: 0.9456 - val_loss: 0.9646 - val_acc: 0.7728\n"
     ]
    },
    {
     "data": {
      "image/png": "[encoded data removed]",
      "text/plain": [
       "<matplotlib.figure.Figure at 0x203ebab48d0>"
      ]
     },
     "metadata": {},
     "output_type": "display_data"
    },
    {
     "name": "stdout",
     "output_type": "stream",
     "text": [
      "11455/11455 [==============================] - 7s 646us/step\n"
     ]
    }
   ],
   "source": [
    "modelName = 'best_cnn_embedded_model.h5'\n",
    "call_backs = [callbacks.EarlyStopping(monitor='val_acc', patience=3),\n",
    "             callbacks.ModelCheckpoint(filepath=modelName, monitor='val_acc', save_best_only=True)]\n",
    "cnnNetwork.compile(optimizer='adam',loss='categorical_crossentropy',metrics=['accuracy'])\n",
    "cnnNetworkHistory = cnnNetwork.fit(x_train, y_train, epochs=5, callbacks=call_backs, validation_data=(x_val,y_val))\n",
    "plotTrainValidationAccuracy(model_history=cnnNetworkHistory, name=\"CNN With Embedding\")\n",
    "best_model = models.load_model(modelName)\n",
    "create_test_submission_file(best_model.predict_classes(x_test),  \"test_cnn_embedded_model.csv\")"
   ]
  },
  {
   "cell_type": "markdown",
   "metadata": {},
   "source": [
    "### 4. Build LSTM Model"
   ]
  },
  {
   "cell_type": "code",
   "execution_count": 22,
   "metadata": {},
   "outputs": [
    {
     "name": "stdout",
     "output_type": "stream",
     "text": [
      "_________________________________________________________________\n",
      "Layer (type)                 Output Shape              Param #   \n",
      "=================================================================\n",
      "embedding_5 (Embedding)      (None, None, 100)         3477000   \n",
      "_________________________________________________________________\n",
      "spatial_dropout1d_2 (Spatial (None, None, 100)         0         \n",
      "_________________________________________________________________\n",
      "lstm_1 (LSTM)                (None, 100)               80400     \n",
      "_________________________________________________________________\n",
      "dense_6 (Dense)              (None, 64)                6464      \n",
      "_________________________________________________________________\n",
      "dropout_2 (Dropout)          (None, 64)                0         \n",
      "_________________________________________________________________\n",
      "dense_7 (Dense)              (None, 6)                 390       \n",
      "=================================================================\n",
      "Total params: 3,564,254\n",
      "Trainable params: 3,564,254\n",
      "Non-trainable params: 0\n",
      "_________________________________________________________________\n"
     ]
    }
   ],
   "source": [
    "lstmNetwork = models.Sequential()\n",
    "lstmNetwork.add(layers.Embedding(max_words, embedding_dim))\n",
    "lstmNetwork.add(layers.SpatialDropout1D(0.3))\n",
    "lstmNetwork.add(layers.LSTM(100))\n",
    "lstmNetwork.add(layers.Dense(64, activation = \"relu\"))\n",
    "lstmNetwork.add(layers.Dropout(0.25))\n",
    "lstmNetwork.add(layers.Dense(len_categories, activation=\"softmax\"))\n",
    "lstmNetwork.summary()"
   ]
  },
  {
   "cell_type": "code",
   "execution_count": 23,
   "metadata": {},
   "outputs": [
    {
     "name": "stdout",
     "output_type": "stream",
     "text": [
      "Train on 38951 samples, validate on 6874 samples\n",
      "Epoch 1/5\n",
      "38951/38951 [==============================] - 279s 7ms/step - loss: 1.0091 - acc: 0.6237 - val_loss: 0.8833 - val_acc: 0.6874\n",
      "Epoch 2/5\n",
      "38951/38951 [==============================] - 279s 7ms/step - loss: 0.7260 - acc: 0.7516 - val_loss: 0.6608 - val_acc: 0.7635\n",
      "Epoch 3/5\n",
      "38951/38951 [==============================] - 279s 7ms/step - loss: 0.5884 - acc: 0.7949 - val_loss: 0.5845 - val_acc: 0.7843\n",
      "Epoch 4/5\n",
      "38951/38951 [==============================] - 283s 7ms/step - loss: 0.5201 - acc: 0.8198 - val_loss: 0.5765 - val_acc: 0.7991\n",
      "Epoch 5/5\n",
      "38951/38951 [==============================] - 474s 12ms/step - loss: 0.4616 - acc: 0.8390 - val_loss: 0.5707 - val_acc: 0.7946\n"
     ]
    },
    {
     "data": {
      "image/png": "[encoded data removed]",
      "text/plain": [
       "<matplotlib.figure.Figure at 0x20383423400>"
      ]
     },
     "metadata": {},
     "output_type": "display_data"
    },
    {
     "name": "stdout",
     "output_type": "stream",
     "text": [
      "11455/11455 [==============================] - 21s 2ms/step\n"
     ]
    }
   ],
   "source": [
    "modelName = 'best_lstm_embedded_model.h5'\n",
    "call_backs = [callbacks.EarlyStopping(monitor='val_acc', patience=3),\n",
    "             callbacks.ModelCheckpoint(filepath=modelName, monitor='val_acc', save_best_only=True)]\n",
    "lstmNetwork.compile(optimizer='adam',loss='categorical_crossentropy',metrics=['accuracy'])\n",
    "lstmNetworkHistory = lstmNetwork.fit(x_train, y_train, epochs=5, callbacks=call_backs, validation_data=(x_val,y_val))\n",
    "plotTrainValidationAccuracy(model_history=lstmNetworkHistory, name=\"LSTM With Embedding\")\n",
    "best_model = models.load_model(modelName)\n",
    "create_test_submission_file(best_model.predict_classes(x_test),  \"test_lstm_embedded_model.csv\")"
   ]
  },
  {
   "cell_type": "code",
   "execution_count": null,
   "metadata": {
    "collapsed": true
   },
   "outputs": [],
   "source": []
  }
 ],
 "metadata": {
  "kernelspec": {
   "display_name": "Python 3",
   "language": "python",
   "name": "python3"
  },
  "language_info": {
   "codemirror_mode": {
    "name": "ipython",
    "version": 3
   },
   "file_extension": ".py",
   "mimetype": "text/x-python",
   "name": "python",
   "nbconvert_exporter": "python",
   "pygments_lexer": "ipython3",
   "version": "3.6.3"
  }
 },
 "nbformat": 4,
 "nbformat_minor": 2
}
