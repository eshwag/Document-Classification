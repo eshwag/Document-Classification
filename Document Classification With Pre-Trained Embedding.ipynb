{
 "cells": [
  {
   "cell_type": "markdown",
   "metadata": {},
   "source": [
    "## Load required libraries here"
   ]
  },
  {
   "cell_type": "code",
   "execution_count": 1,
   "metadata": {},
   "outputs": [
    {
     "name": "stderr",
     "output_type": "stream",
     "text": [
      "Using TensorFlow backend.\n"
     ]
    }
   ],
   "source": [
    "import os\n",
    "import numpy as np\n",
    "np.random.seed(111)\n",
    "import pandas as pd\n",
    "from keras import layers\n",
    "from keras import models\n",
    "from keras import metrics\n",
    "from keras import optimizers\n",
    "from keras import callbacks\n",
    "from keras.preprocessing.sequence import pad_sequences\n",
    "from keras.preprocessing.text import Tokenizer\n",
    "from keras.utils import np_utils\n",
    "import matplotlib.pyplot as plot\n",
    "from sklearn import model_selection\n",
    "from sklearn import preprocessing\n"
   ]
  },
  {
   "cell_type": "markdown",
   "metadata": {},
   "source": [
    "##  Read Train & Test Data and replace NA values"
   ]
  },
  {
   "cell_type": "code",
   "execution_count": 2,
   "metadata": {},
   "outputs": [
    {
     "data": {
      "text/plain": [
       "['.ipynb_checkpoints',\n",
       " 'AttributeDescription.pdf',\n",
       " 'CUTe_CSE7321c_Batch39_Group_2.pptx',\n",
       " 'CUTe_CSE7321c_Batch39_Group_2.zip',\n",
       " 'Document Classification With One Hot Encoding.ipynb',\n",
       " 'Document Classification With Pre-Trained Embedding.ipynb',\n",
       " 'Document Classification With Word Embedding.ipynb',\n",
       " 'test.csv',\n",
       " 'train.csv']"
      ]
     },
     "execution_count": 2,
     "metadata": {},
     "output_type": "execute_result"
    }
   ],
   "source": [
    "path = os.getcwd()\n",
    "os.listdir()"
   ]
  },
  {
   "cell_type": "code",
   "execution_count": 3,
   "metadata": {
    "collapsed": true
   },
   "outputs": [],
   "source": [
    "train = pd.read_csv(\"train.csv\", index_col = \"ID\", na_values=\" \")\n",
    "test = pd.read_csv(\"test.csv\", na_values=\" \")"
   ]
  },
  {
   "cell_type": "code",
   "execution_count": 4,
   "metadata": {},
   "outputs": [
    {
     "data": {
      "text/html": [
       "<div>\n",
       "<style>\n",
       "    .dataframe thead tr:only-child th {\n",
       "        text-align: right;\n",
       "    }\n",
       "\n",
       "    .dataframe thead th {\n",
       "        text-align: left;\n",
       "    }\n",
       "\n",
       "    .dataframe tbody tr th {\n",
       "        vertical-align: top;\n",
       "    }\n",
       "</style>\n",
       "<table border=\"1\" class=\"dataframe\">\n",
       "  <thead>\n",
       "    <tr style=\"text-align: right;\">\n",
       "      <th></th>\n",
       "      <th>ID</th>\n",
       "      <th>converse</th>\n",
       "    </tr>\n",
       "  </thead>\n",
       "  <tbody>\n",
       "    <tr>\n",
       "      <th>2811</th>\n",
       "      <td>14194</td>\n",
       "      <td>NaN</td>\n",
       "    </tr>\n",
       "    <tr>\n",
       "      <th>3603</th>\n",
       "      <td>18173</td>\n",
       "      <td>NaN</td>\n",
       "    </tr>\n",
       "    <tr>\n",
       "      <th>4447</th>\n",
       "      <td>22293</td>\n",
       "      <td>NaN</td>\n",
       "    </tr>\n",
       "    <tr>\n",
       "      <th>6261</th>\n",
       "      <td>31275</td>\n",
       "      <td>NaN</td>\n",
       "    </tr>\n",
       "    <tr>\n",
       "      <th>6737</th>\n",
       "      <td>33762</td>\n",
       "      <td>NaN</td>\n",
       "    </tr>\n",
       "    <tr>\n",
       "      <th>9539</th>\n",
       "      <td>47537</td>\n",
       "      <td>NaN</td>\n",
       "    </tr>\n",
       "    <tr>\n",
       "      <th>9702</th>\n",
       "      <td>48370</td>\n",
       "      <td>NaN</td>\n",
       "    </tr>\n",
       "  </tbody>\n",
       "</table>\n",
       "</div>"
      ],
      "text/plain": [
       "         ID converse\n",
       "2811  14194      NaN\n",
       "3603  18173      NaN\n",
       "4447  22293      NaN\n",
       "6261  31275      NaN\n",
       "6737  33762      NaN\n",
       "9539  47537      NaN\n",
       "9702  48370      NaN"
      ]
     },
     "execution_count": 4,
     "metadata": {},
     "output_type": "execute_result"
    }
   ],
   "source": [
    "train[train.isnull().any(axis=1)]\n",
    "test[test.isnull().any(axis=1)]"
   ]
  },
  {
   "cell_type": "code",
   "execution_count": 5,
   "metadata": {
    "collapsed": true
   },
   "outputs": [],
   "source": [
    "# replacing na values with string blank\"\n",
    "#train = train.replace(np.nan,\"Balnk\")\n",
    "#test = test.replace(np.nan, \"Blank\")\n",
    "\n",
    "train.fillna(\"Blank\", inplace=True)\n",
    "test.fillna(\"Blank\", inplace=True)"
   ]
  },
  {
   "cell_type": "markdown",
   "metadata": {},
   "source": [
    "## Tokenize & vectorize data using pre-embeddings computed from glove"
   ]
  },
  {
   "cell_type": "code",
   "execution_count": 6,
   "metadata": {},
   "outputs": [],
   "source": [
    "tokenizer = Tokenizer()\n",
    "tokenizer.fit_on_texts(train['converse'])\n",
    "word_index = tokenizer.word_index"
   ]
  },
  {
   "cell_type": "code",
   "execution_count": 7,
   "metadata": {},
   "outputs": [
    {
     "name": "stdout",
     "output_type": "stream",
     "text": [
      "unique words  34770\n"
     ]
    }
   ],
   "source": [
    "max_words = len(word_index) + 1\n",
    "print(\"unique words \",max_words)\n",
    "embedding_dim = 100\n",
    "max_len = 150"
   ]
  },
  {
   "cell_type": "markdown",
   "metadata": {
    "collapsed": true
   },
   "source": [
    "### Label Encoder\n"
   ]
  },
  {
   "cell_type": "code",
   "execution_count": 8,
   "metadata": {},
   "outputs": [
    {
     "data": {
      "text/plain": [
       "PRESCRIPTION     12077\n",
       "APPOINTMENTS     11098\n",
       "MISCELLANEOUS     9736\n",
       "ASK_A_DOCTOR      9440\n",
       "LAB               3457\n",
       "JUNK                17\n",
       "Name: categories, dtype: int64"
      ]
     },
     "execution_count": 8,
     "metadata": {},
     "output_type": "execute_result"
    }
   ],
   "source": [
    "# labels counts before encoding\n",
    "train['categories'].value_counts()"
   ]
  },
  {
   "cell_type": "code",
   "execution_count": 9,
   "metadata": {},
   "outputs": [],
   "source": [
    "label_encoder = preprocessing.LabelEncoder()\n",
    "labels_encoded = label_encoder.fit_transform(train['categories'])"
   ]
  },
  {
   "cell_type": "code",
   "execution_count": 10,
   "metadata": {},
   "outputs": [
    {
     "data": {
      "text/plain": [
       "5    12077\n",
       "0    11098\n",
       "4     9736\n",
       "1     9440\n",
       "3     3457\n",
       "2       17\n",
       "dtype: int64"
      ]
     },
     "execution_count": 10,
     "metadata": {},
     "output_type": "execute_result"
    }
   ],
   "source": [
    "# Label Counts after encoding\n",
    "pd.Series(labels_encoded).value_counts()"
   ]
  },
  {
   "cell_type": "markdown",
   "metadata": {},
   "source": [
    "### User Defined Functions for ease in processing"
   ]
  },
  {
   "cell_type": "code",
   "execution_count": 11,
   "metadata": {
    "collapsed": true
   },
   "outputs": [],
   "source": [
    "def vectorize_text_data(tokenizer, data, word_len=max_len):\n",
    "    text_to_seq = tokenizer.texts_to_sequences(data)\n",
    "    return pad_sequences(text_to_seq, word_len)\n",
    "\n",
    "def getPreTrainedEmbeddingIndexFromGlove():\n",
    "    fileName = 'C:\\glove\\glove.6B.100d.txt'\n",
    "    embedding_index = {}\n",
    "    for line in open(fileName, encoding= 'utf-8'):\n",
    "        values = line.split()\n",
    "        embedding_index[values[0]] = np.asarray(values[1:],dtype='float32')\n",
    "    return embedding_index\n",
    "\n",
    "def getPreTrainedEmbeddingMatrixFromGlove(tokenizer, num_words = max_words, dim = embedding_dim):\n",
    "    embedding_index = getPreTrainedEmbeddingIndexFromGlove()\n",
    "    embedding_matrix = np.zeros(shape=(num_words, dim))\n",
    "    word_index = tokenizer.word_index\n",
    "    for word, i in word_index.items():\n",
    "        if i < max_words:\n",
    "            embedding_vector = embedding_index.get(word)\n",
    "            if embedding_vector is not None:\n",
    "                embedding_matrix[i] = embedding_vector\n",
    "    return embedding_matrix\n",
    "    \n",
    "def create_test_submission_file(test_preds, fileName):\n",
    "    preds_decoded = label_encoder.inverse_transform(test_preds)\n",
    "    test_data = {'ID' : test['ID'], 'categories' : preds_decoded}\n",
    "    output = pd.DataFrame(data=test_data, columns=['ID','categories'])\n",
    "    output.to_csv(fileName,index=False)\n",
    "\n",
    "def plotTrainValidationAccuracy(model_history, name):\n",
    "    plot.clf()\n",
    "    history_dict = model_history.history\n",
    "    train_acc = history_dict[\"acc\"]\n",
    "    val_acc = history_dict[\"val_acc\"]\n",
    "    epocs = range(1, len(train_acc) + 1)\n",
    "    plot.plot(epocs, train_acc, \"go\", label = \"Training Accuracy\")\n",
    "    plot.plot(epocs, val_acc, \"g\", label = \"Validation Accuracy\")\n",
    "    plot.title(name + \" Training & validation accuracy\")\n",
    "    plot.xlabel(\"Epocs\")\n",
    "    plot.ylabel(\"Accuracy\")\n",
    "    plot.legend()\n",
    "    plot.show()     "
   ]
  },
  {
   "cell_type": "markdown",
   "metadata": {},
   "source": [
    "### Prepare Train & Validation data \n",
    "### split of data 85:15\n",
    "### Vectorizing text data"
   ]
  },
  {
   "cell_type": "code",
   "execution_count": 12,
   "metadata": {},
   "outputs": [],
   "source": [
    "x_train, x_val, y_train, y_val = model_selection.train_test_split(train['converse'], labels_encoded, random_state = 111, \n",
    "                                                                  stratify = labels_encoded, test_size = 0.15)\n",
    "x_train = vectorize_text_data(tokenizer, x_train)\n",
    "x_val = vectorize_text_data(tokenizer, x_val)\n",
    "x_test = vectorize_text_data(tokenizer, test['converse'])\n",
    "y_train = np_utils.to_categorical(y_train)\n",
    "y_val = np_utils.to_categorical(y_val)"
   ]
  },
  {
   "cell_type": "code",
   "execution_count": 13,
   "metadata": {},
   "outputs": [
    {
     "name": "stdout",
     "output_type": "stream",
     "text": [
      "(38951, 150)\n",
      "(38951, 6)\n",
      "(6874, 150)\n",
      "(6874, 6)\n",
      "(11455, 150)\n"
     ]
    }
   ],
   "source": [
    "print(x_train.shape)\n",
    "print(y_train.shape)\n",
    "print(x_val.shape)\n",
    "print(y_val.shape)\n",
    "print(x_test.shape)"
   ]
  },
  {
   "cell_type": "markdown",
   "metadata": {},
   "source": [
    "# Build Models for Document Classification into 6 Categories"
   ]
  },
  {
   "cell_type": "markdown",
   "metadata": {},
   "source": [
    "### 1. Build a MLP network"
   ]
  },
  {
   "cell_type": "code",
   "execution_count": 14,
   "metadata": {},
   "outputs": [],
   "source": [
    "len_categories = len(np.unique(labels_encoded))"
   ]
  },
  {
   "cell_type": "code",
   "execution_count": 15,
   "metadata": {},
   "outputs": [],
   "source": [
    "embedding_matrix = getPreTrainedEmbeddingMatrixFromGlove(tokenizer)\n",
    "embedding_layer = layers.Embedding(max_words, embedding_dim, input_length=max_len, weights=[embedding_matrix], trainable=False)"
   ]
  },
  {
   "cell_type": "code",
   "execution_count": 16,
   "metadata": {},
   "outputs": [
    {
     "name": "stdout",
     "output_type": "stream",
     "text": [
      "_________________________________________________________________\n",
      "Layer (type)                 Output Shape              Param #   \n",
      "=================================================================\n",
      "embedding_1 (Embedding)      (None, 150, 100)          3477000   \n",
      "_________________________________________________________________\n",
      "flatten_1 (Flatten)          (None, 15000)             0         \n",
      "_________________________________________________________________\n",
      "dense_1 (Dense)              (None, 64)                960064    \n",
      "_________________________________________________________________\n",
      "dense_2 (Dense)              (None, 6)                 390       \n",
      "=================================================================\n",
      "Total params: 4,437,454\n",
      "Trainable params: 960,454\n",
      "Non-trainable params: 3,477,000\n",
      "_________________________________________________________________\n"
     ]
    }
   ],
   "source": [
    "mlpNetwork = models.Sequential()\n",
    "mlpNetwork.add(embedding_layer)\n",
    "mlpNetwork.add(layers.Flatten())\n",
    "mlpNetwork.add(layers.Dense(64, activation = \"relu\"))\n",
    "mlpNetwork.add(layers.Dense(len_categories, activation=\"softmax\"))\n",
    "mlpNetwork.summary()"
   ]
  },
  {
   "cell_type": "code",
   "execution_count": 17,
   "metadata": {},
   "outputs": [
    {
     "name": "stdout",
     "output_type": "stream",
     "text": [
      "Train on 38951 samples, validate on 6874 samples\n",
      "Epoch 1/5\n",
      "38951/38951 [==============================] - 32s 820us/step - loss: 0.9382 - acc: 0.6431 - val_loss: 0.8115 - val_acc: 0.6913\n",
      "Epoch 2/5\n",
      "38951/38951 [==============================] - 33s 846us/step - loss: 0.6432 - acc: 0.7614 - val_loss: 0.8556 - val_acc: 0.6807\n",
      "Epoch 3/5\n",
      "38951/38951 [==============================] - 33s 856us/step - loss: 0.4914 - acc: 0.8176 - val_loss: 0.9261 - val_acc: 0.6794\n",
      "Epoch 4/5\n",
      "38951/38951 [==============================] - 32s 833us/step - loss: 0.3732 - acc: 0.8630 - val_loss: 1.0195 - val_acc: 0.6884\n"
     ]
    },
    {
     "data": {
      "image/png": "[encoded data removed]",
      "text/plain": [
       "<matplotlib.figure.Figure at 0x1e6601fe550>"
      ]
     },
     "metadata": {},
     "output_type": "display_data"
    },
    {
     "name": "stdout",
     "output_type": "stream",
     "text": [
      "11455/11455 [==============================] - 2s 173us/step\n"
     ]
    }
   ],
   "source": [
    "modelName = 'best_mlp_pre_embedded_model.h5'\n",
    "call_backs = [callbacks.EarlyStopping(monitor='val_acc', patience=3),\n",
    "             callbacks.ModelCheckpoint(filepath=modelName, monitor='val_acc', save_best_only=True)]\n",
    "mlpNetwork.compile(optimizer='adam',loss='categorical_crossentropy',metrics=['accuracy'])\n",
    "mlpNetworkHistory = mlpNetwork.fit(x_train, y_train, epochs=5, callbacks=call_backs, validation_data=(x_val,y_val))\n",
    "plotTrainValidationAccuracy(model_history=mlpNetworkHistory, name=\"MLP With Pre Embedding\")\n",
    "best_model = models.load_model(modelName)\n",
    "create_test_submission_file(best_model.predict_classes(x_test),  \"test_mlp_pre_embedded_model.csv\")"
   ]
  },
  {
   "cell_type": "markdown",
   "metadata": {},
   "source": [
    "### Build CNN Model with Pre-Embeddings"
   ]
  },
  {
   "cell_type": "code",
   "execution_count": 18,
   "metadata": {},
   "outputs": [
    {
     "name": "stdout",
     "output_type": "stream",
     "text": [
      "_________________________________________________________________\n",
      "Layer (type)                 Output Shape              Param #   \n",
      "=================================================================\n",
      "embedding_1 (Embedding)      (None, 150, 100)          3477000   \n",
      "_________________________________________________________________\n",
      "conv1d_1 (Conv1D)            (None, 146, 64)           32064     \n",
      "_________________________________________________________________\n",
      "max_pooling1d_1 (MaxPooling1 (None, 36, 64)            0         \n",
      "_________________________________________________________________\n",
      "conv1d_2 (Conv1D)            (None, 32, 64)            20544     \n",
      "_________________________________________________________________\n",
      "max_pooling1d_2 (MaxPooling1 (None, 8, 64)             0         \n",
      "_________________________________________________________________\n",
      "flatten_2 (Flatten)          (None, 512)               0         \n",
      "_________________________________________________________________\n",
      "dense_3 (Dense)              (None, 64)                32832     \n",
      "_________________________________________________________________\n",
      "dense_4 (Dense)              (None, 6)                 390       \n",
      "=================================================================\n",
      "Total params: 3,562,830\n",
      "Trainable params: 85,830\n",
      "Non-trainable params: 3,477,000\n",
      "_________________________________________________________________\n"
     ]
    }
   ],
   "source": [
    "cnnNetwork = models.Sequential()\n",
    "cnnNetwork.add(embedding_layer)\n",
    "cnnNetwork.add(layers.Conv1D(64, 5, activation='relu'))\n",
    "cnnNetwork.add(layers.MaxPooling1D(4))\n",
    "cnnNetwork.add(layers.Conv1D(64, 5, activation='relu'))\n",
    "cnnNetwork.add(layers.MaxPooling1D(4))\n",
    "cnnNetwork.add(layers.Flatten())\n",
    "cnnNetwork.add(layers.Dense(64, activation = \"relu\"))\n",
    "cnnNetwork.add(layers.Dense(len_categories, activation=\"softmax\"))\n",
    "cnnNetwork.summary()"
   ]
  },
  {
   "cell_type": "code",
   "execution_count": 19,
   "metadata": {},
   "outputs": [
    {
     "name": "stdout",
     "output_type": "stream",
     "text": [
      "Train on 38951 samples, validate on 6874 samples\n",
      "Epoch 1/5\n",
      "38951/38951 [==============================] - 53s 1ms/step - loss: 0.7911 - acc: 0.7072 - val_loss: 0.6250 - val_acc: 0.7704\n",
      "Epoch 2/5\n",
      "38951/38951 [==============================] - 57s 1ms/step - loss: 0.5758 - acc: 0.7899 - val_loss: 0.5714 - val_acc: 0.7891\n",
      "Epoch 3/5\n",
      "38951/38951 [==============================] - 52s 1ms/step - loss: 0.5122 - acc: 0.8095 - val_loss: 0.5802 - val_acc: 0.7856\n",
      "Epoch 4/5\n",
      "38951/38951 [==============================] - 51s 1ms/step - loss: 0.4603 - acc: 0.8280 - val_loss: 0.5792 - val_acc: 0.7905\n",
      "Epoch 5/5\n",
      "38951/38951 [==============================] - 50s 1ms/step - loss: 0.4070 - acc: 0.8470 - val_loss: 0.6209 - val_acc: 0.7811\n"
     ]
    },
    {
     "data": {
      "image/png": "[encoded data removed]",
      "text/plain": [
       "<matplotlib.figure.Figure at 0x1e6663e8f60>"
      ]
     },
     "metadata": {},
     "output_type": "display_data"
    },
    {
     "name": "stdout",
     "output_type": "stream",
     "text": [
      "11455/11455 [==============================] - 6s 487us/step\n"
     ]
    }
   ],
   "source": [
    "modelName = 'best_cnn_pre_embedded_model.h5'\n",
    "call_backs = [callbacks.EarlyStopping(monitor='val_acc', patience=3),\n",
    "             callbacks.ModelCheckpoint(filepath=modelName, monitor='val_acc', save_best_only=True)]\n",
    "cnnNetwork.compile(optimizer='adam',loss='categorical_crossentropy',metrics=['accuracy'])\n",
    "cnnNetworkHistory = cnnNetwork.fit(x_train, y_train, epochs=5, callbacks=call_backs, validation_data=(x_val,y_val))\n",
    "plotTrainValidationAccuracy(model_history=cnnNetworkHistory, name=\"CNN With Pre Embedding\")\n",
    "best_model = models.load_model(modelName)\n",
    "create_test_submission_file(best_model.predict_classes(x_test),  \"test_cnn_pre_embedded_model.csv\")"
   ]
  },
  {
   "cell_type": "markdown",
   "metadata": {},
   "source": [
    "### Build LSTM Network"
   ]
  },
  {
   "cell_type": "code",
   "execution_count": 20,
   "metadata": {},
   "outputs": [
    {
     "name": "stdout",
     "output_type": "stream",
     "text": [
      "_________________________________________________________________\n",
      "Layer (type)                 Output Shape              Param #   \n",
      "=================================================================\n",
      "embedding_1 (Embedding)      (None, 150, 100)          3477000   \n",
      "_________________________________________________________________\n",
      "spatial_dropout1d_1 (Spatial (None, 150, 100)          0         \n",
      "_________________________________________________________________\n",
      "lstm_1 (LSTM)                (None, 100)               80400     \n",
      "_________________________________________________________________\n",
      "dense_5 (Dense)              (None, 64)                6464      \n",
      "_________________________________________________________________\n",
      "dropout_1 (Dropout)          (None, 64)                0         \n",
      "_________________________________________________________________\n",
      "dense_6 (Dense)              (None, 6)                 390       \n",
      "=================================================================\n",
      "Total params: 3,564,254\n",
      "Trainable params: 87,254\n",
      "Non-trainable params: 3,477,000\n",
      "_________________________________________________________________\n"
     ]
    }
   ],
   "source": [
    "lstmNetwork = models.Sequential()\n",
    "lstmNetwork.add(embedding_layer)\n",
    "lstmNetwork.add(layers.SpatialDropout1D(0.3))\n",
    "lstmNetwork.add(layers.LSTM(100))\n",
    "lstmNetwork.add(layers.Dense(64, activation = \"relu\"))\n",
    "lstmNetwork.add(layers.Dropout(0.25))\n",
    "lstmNetwork.add(layers.Dense(len_categories, activation=\"softmax\"))\n",
    "lstmNetwork.summary()"
   ]
  },
  {
   "cell_type": "code",
   "execution_count": 21,
   "metadata": {},
   "outputs": [
    {
     "name": "stdout",
     "output_type": "stream",
     "text": [
      "Train on 38951 samples, validate on 6874 samples\n",
      "Epoch 1/5\n",
      "38951/38951 [==============================] - 181s 5ms/step - loss: 1.0343 - acc: 0.6061 - val_loss: 0.7468 - val_acc: 0.7287\n",
      "Epoch 2/5\n",
      "38951/38951 [==============================] - 181s 5ms/step - loss: 0.7483 - acc: 0.7272 - val_loss: 0.6444 - val_acc: 0.7649\n",
      "Epoch 3/5\n",
      "38951/38951 [==============================] - 207s 5ms/step - loss: 0.6759 - acc: 0.7544 - val_loss: 0.5867 - val_acc: 0.7776\n",
      "Epoch 4/5\n",
      "38951/38951 [==============================] - 204s 5ms/step - loss: 0.6267 - acc: 0.7698 - val_loss: 0.5687 - val_acc: 0.7879\n",
      "Epoch 5/5\n",
      "38951/38951 [==============================] - 197s 5ms/step - loss: 0.6002 - acc: 0.7790 - val_loss: 0.5446 - val_acc: 0.7943\n"
     ]
    },
    {
     "data": {
      "image/png": "[encoded data removed]",
      "text/plain": [
       "<matplotlib.figure.Figure at 0x1e6720b3898>"
      ]
     },
     "metadata": {},
     "output_type": "display_data"
    },
    {
     "name": "stdout",
     "output_type": "stream",
     "text": [
      "11455/11455 [==============================] - 16s 1ms/step\n"
     ]
    }
   ],
   "source": [
    "modelName = 'best_lstm_pre_embedded_model.h5'\n",
    "call_backs = [callbacks.EarlyStopping(monitor='val_acc', patience=3),\n",
    "             callbacks.ModelCheckpoint(filepath=modelName, monitor='val_acc', save_best_only=True)]\n",
    "lstmNetwork.compile(optimizer='adam',loss='categorical_crossentropy',metrics=['accuracy'])\n",
    "lstmNetworkHistory = lstmNetwork.fit(x_train, y_train, epochs=5, callbacks=call_backs, validation_data=(x_val,y_val))\n",
    "plotTrainValidationAccuracy(model_history=lstmNetworkHistory, name=\"LSTM With Pre Embedding\")\n",
    "best_model = models.load_model(modelName)\n",
    "create_test_submission_file(best_model.predict_classes(x_test),  \"test_lstm_pre_embedded_model.csv\")"
   ]
  },
  {
   "cell_type": "code",
   "execution_count": null,
   "metadata": {
    "collapsed": true
   },
   "outputs": [],
   "source": []
  }
 ],
 "metadata": {
  "kernelspec": {
   "display_name": "Python 3",
   "language": "python",
   "name": "python3"
  },
  "language_info": {
   "codemirror_mode": {
    "name": "ipython",
    "version": 3
   },
   "file_extension": ".py",
   "mimetype": "text/x-python",
   "name": "python",
   "nbconvert_exporter": "python",
   "pygments_lexer": "ipython3",
   "version": "3.6.3"
  }
 },
 "nbformat": 4,
 "nbformat_minor": 2
}
